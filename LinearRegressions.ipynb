{
 "cells": [
  {
   "cell_type": "markdown",
   "metadata": {},
   "source": [
    "## Linear Regression Vanilla Implementation from Scratch\n",
    "\n",
    "* 20205318 Kim Jaeho"
   ]
  },
  {
   "cell_type": "code",
   "execution_count": 3,
   "metadata": {},
   "outputs": [],
   "source": [
    "import numpy as np\n",
    "from numpy.linalg import inv\n",
    "from sklearn.model_selection import train_test_split\n",
    "from sklearn.metrics import r2_score\n",
    "import matplotlib.pyplot as plt\n",
    "import seaborn as sns\n",
    "import pandas as pd\n",
    "import os"
   ]
  },
  {
   "cell_type": "code",
   "execution_count": 4,
   "metadata": {},
   "outputs": [],
   "source": [
    "data_dir = 'data/'\n",
    "music_df = pd.read_csv(data_dir+'default_features_1059_tracks.csv')"
   ]
  },
  {
   "cell_type": "code",
   "execution_count": 5,
   "metadata": {},
   "outputs": [],
   "source": [
    "X = np.array(music_df.iloc[:,:-2])"
   ]
  },
  {
   "cell_type": "code",
   "execution_count": 6,
   "metadata": {},
   "outputs": [],
   "source": [
    "latitude = np.array(music_df.Latitude)\n",
    "longitude = np.array(music_df.Longitude)"
   ]
  },
  {
   "cell_type": "markdown",
   "metadata": {},
   "source": [
    "* Set random state to **split dataset into train, val, test**"
   ]
  },
  {
   "cell_type": "code",
   "execution_count": 7,
   "metadata": {},
   "outputs": [],
   "source": [
    "random_state = 250"
   ]
  },
  {
   "cell_type": "code",
   "execution_count": 8,
   "metadata": {},
   "outputs": [],
   "source": [
    "def split_data(X,latitude,longitude,random_state):\n",
    "    X_train, X_test, latitude_train, latitude_test = train_test_split(X, latitude, test_size=0.2,random_state=random_state)\n",
    "    _, _, longitude_train, longitude_test = train_test_split(X, longitude, test_size=0.2,random_state=random_state)\n",
    "    X_train, X_val , latitude_train, latitude_val = train_test_split(X_train, latitude_train, test_size=0.2,random_state=random_state)\n",
    "    longitude_train, longitude_val = train_test_split(longitude_train, test_size=0.2,random_state=random_state)\n",
    "    \n",
    "    return X_train, X_val, X_test, latitude_train, latitude_val ,latitude_test, longitude_train, longitude_val,longitude_test"
   ]
  },
  {
   "cell_type": "code",
   "execution_count": 9,
   "metadata": {},
   "outputs": [],
   "source": [
    "X_train, X_val, X_test, latitude_train, latitude_val ,latitude_test, longitude_train, longitude_val,longitude_test=  split_data(X,latitude,longitude,random_state)"
   ]
  },
  {
   "cell_type": "code",
   "execution_count": 10,
   "metadata": {},
   "outputs": [
    {
     "name": "stdout",
     "output_type": "stream",
     "text": [
      "Train_X Shape:(677, 68), Val_X:(170, 68), Test_X Shape: (212, 68)\n",
      "latitude train Shape:(677,), latitude val Shape:(170,), latitude test Shape:(212,)\n",
      "longitude train Shape:(677,), longitude val Shape:(170,), longitude test Shape:(212,)\n"
     ]
    }
   ],
   "source": [
    "print(f'Train_X Shape:{X_train.shape}, Val_X:{X_val.shape}, Test_X Shape: {X_test.shape}')\n",
    "print(f'latitude train Shape:{latitude_train.shape}, latitude val Shape:{latitude_val.shape}, latitude test Shape:{latitude_test.shape}')\n",
    "print(f'longitude train Shape:{longitude_train.shape}, longitude val Shape:{longitude_val.shape}, longitude test Shape:{longitude_test.shape}')"
   ]
  },
  {
   "cell_type": "markdown",
   "metadata": {},
   "source": [
    "### Implement Vanilla Regression Class"
   ]
  },
  {
   "cell_type": "code",
   "execution_count": 11,
   "metadata": {},
   "outputs": [],
   "source": [
    "class LinearRegression:\n",
    "    def __init__(self):\n",
    "        pass\n",
    "    def fit(self,train_X,train_y):\n",
    "        assert isinstance(train_X,(np.ndarray)) == True\n",
    "        assert isinstance(train_y,(np.ndarray)) == True\n",
    "        self.train_X = train_X\n",
    "        self.train_y = train_y\n",
    "        self.N, self.D = train_X.shape\n",
    "        self.estimate_coef()\n",
    "    def estimate_coef(self):\n",
    "        self.coef = np.matmul(np.matmul(inv(np.matmul(self.train_X.T,self.train_X)),self.train_X.T),self.train_y)\n",
    "    def predict(self,test_X,test_y,print_score=True):\n",
    "        predict_y = np.matmul(test_X,self.coef)\n",
    "        if print_score:\n",
    "            print('Implemented R2 score: ',self.r2_score(test_y,predict_y))\n",
    "            print('ScikitLearn R2 score: ',r2_score(test_y,predict_y))\n",
    "        return r2_score(test_y,predict_y)\n",
    "    def r2_score(self,y_true,y_pred):\n",
    "        y_bar = np.mean(y_true)\n",
    "        SSR = np.sum((y_true-y_pred)**2)\n",
    "        SST = np.sum((y_true-y_bar)**2)\n",
    "        r2=  1-(SSR/SST)\n",
    "        return r2\n",
    "    def coef_values(self):\n",
    "        coef_dict={}\n",
    "        for idx,coef_val in enumerate(self.coef):\n",
    "            coef_dict[str(idx+1)]= coef_val\n",
    "        coef_dicts= dict(sorted(coef_dict.items(), key=lambda item: item[1]))\n",
    "        plt.bar(range(len(coef_dicts)), list(coef_dicts.values()), align='center')\n",
    "        plt.title('Coefficient Values Sorted')\n",
    "        plt.show()"
   ]
  },
  {
   "cell_type": "code",
   "execution_count": 12,
   "metadata": {},
   "outputs": [
    {
     "name": "stdout",
     "output_type": "stream",
     "text": [
      "Implemented R2 score:  -2.374533006608664\n",
      "ScikitLearn R2 score:  -2.374533006608664\n"
     ]
    },
    {
     "data": {
      "image/png": "[encoded data removed]",
      "text/plain": [
       "<Figure size 432x288 with 1 Axes>"
      ]
     },
     "metadata": {},
     "output_type": "display_data"
    }
   ],
   "source": [
    "model = LinearRegression()\n",
    "model.fit(X_train,latitude_train)\n",
    "model.predict(X_test,latitude_test)\n",
    "model.coef_values()"
   ]
  },
  {
   "cell_type": "code",
   "execution_count": 13,
   "metadata": {},
   "outputs": [
    {
     "name": "stdout",
     "output_type": "stream",
     "text": [
      "Implemented R2 score:  -0.728184538556683\n",
      "ScikitLearn R2 score:  -0.728184538556683\n"
     ]
    },
    {
     "data": {
      "image/png": "[encoded data removed]",
      "text/plain": [
       "<Figure size 432x288 with 1 Axes>"
      ]
     },
     "metadata": {},
     "output_type": "display_data"
    }
   ],
   "source": [
    "model = LinearRegression()\n",
    "model.fit(X_train,longitude_train)\n",
    "model.predict(X_test,longitude_test)\n",
    "model.coef_values()"
   ]
  },
  {
   "cell_type": "markdown",
   "metadata": {},
   "source": [
    "### Implement Ridge Regression Class(L2)"
   ]
  },
  {
   "cell_type": "code",
   "execution_count": 14,
   "metadata": {},
   "outputs": [],
   "source": [
    "class RidgeLinearRegression(LinearRegression):\n",
    "    def __init__(self,regularizer_coef=10):\n",
    "        self.regularizer_coef = regularizer_coef\n",
    "    def estimate_coef(self):\n",
    "        self.coef = np.matmul(np.matmul(inv(np.matmul(self.train_X.T,self.train_X)+self.regularizer_coef*np.eye(self.D)),self.train_X.T),self.train_y)"
   ]
  },
  {
   "cell_type": "code",
   "execution_count": 15,
   "metadata": {},
   "outputs": [
    {
     "name": "stdout",
     "output_type": "stream",
     "text": [
      "Implemented R2 score:  -2.1954101730708655\n",
      "ScikitLearn R2 score:  -2.1954101730708655\n"
     ]
    },
    {
     "data": {
      "image/png": "[encoded data removed]",
      "text/plain": [
       "<Figure size 432x288 with 1 Axes>"
      ]
     },
     "metadata": {},
     "output_type": "display_data"
    }
   ],
   "source": [
    "Ridge = RidgeLinearRegression()\n",
    "Ridge.fit(X_train,latitude_train)\n",
    "Ridge.predict(X_test,latitude_test)\n",
    "Ridge.coef_values()"
   ]
  },
  {
   "cell_type": "code",
   "execution_count": 16,
   "metadata": {},
   "outputs": [
    {
     "name": "stdout",
     "output_type": "stream",
     "text": [
      "Implemented R2 score:  -0.5622973988208946\n",
      "ScikitLearn R2 score:  -0.5622973988208946\n"
     ]
    },
    {
     "data": {
      "image/png": "[encoded data removed]",
      "text/plain": [
       "<Figure size 432x288 with 1 Axes>"
      ]
     },
     "metadata": {},
     "output_type": "display_data"
    }
   ],
   "source": [
    "Ridge = RidgeLinearRegression()\n",
    "Ridge.fit(X_train,longitude_train)\n",
    "Ridge.predict(X_test,longitude_test)\n",
    "Ridge.coef_values()"
   ]
  },
  {
   "cell_type": "markdown",
   "metadata": {},
   "source": [
    "### Implement Lasso Regression Class(L1)"
   ]
  },
  {
   "cell_type": "code",
   "execution_count": 27,
   "metadata": {},
   "outputs": [],
   "source": [
    "class LassoLinearRegression(LinearRegression):\n",
    "    def __init__(self,regularizer_coef=50):\n",
    "        self.regularizer_coef = regularizer_coef\n",
    "    def estimate_coef(self,epoch=50):\n",
    "        self.coef = np.zeros(self.D)\n",
    "        update_threshold = 10\n",
    "        #while update_threshold > 5:\n",
    "        for e in range(epoch):\n",
    "            for d in range(self.D):\n",
    "                ro = self.calculate_ro_j(d)\n",
    "                denominator = np.sum(self.train_X[:,d]**2,axis=0)\n",
    "                if ro > self.regularizer_coef:\n",
    "                    self.coef[d]= (-self.regularizer_coef+ro)/ denominator\n",
    "                elif ro < -self.regularizer_coef:\n",
    "                    self.coef[d]= (self.regularizer_coef+ro)/ denominator\n",
    "                else:\n",
    "                    self.coef[d]=0\n",
    "    def calculate_ro_j(self,current_j):\n",
    "        other_column_indices = [i for i in range(self.D) if i!=current_j]\n",
    "        \n",
    "        coefs_without_j = self.coef[other_column_indices]\n",
    "        X_without_j = self.train_X[:,other_column_indices]\n",
    "        ro = np.sum(np.multiply(self.train_y-np.sum(np.multiply(coefs_without_j,X_without_j),axis=1),self.train_X[:,current_j]),axis=0)\n",
    "        return ro\n",
    "    \n",
    "    def count_zero_coefs(self):\n",
    "        \n",
    "    \n",
    "        \n",
    "        "
   ]
  },
  {
   "cell_type": "code",
   "execution_count": 28,
   "metadata": {},
   "outputs": [
    {
     "name": "stdout",
     "output_type": "stream",
     "text": [
      "Implemented R2 score:  -2.1375438308823327\n",
      "ScikitLearn R2 score:  -2.1375438308823327\n"
     ]
    },
    {
     "data": {
      "image/png": "[encoded data removed]",
      "text/plain": [
       "<Figure size 432x288 with 1 Axes>"
      ]
     },
     "metadata": {},
     "output_type": "display_data"
    }
   ],
   "source": [
    "Lasso = LassoLinearRegression()\n",
    "Lasso.fit(X_train,latitude_train)\n",
    "Lasso.predict(X_test,latitude_test)\n",
    "Lasso.coef_values()"
   ]
  },
  {
   "cell_type": "code",
   "execution_count": 29,
   "metadata": {},
   "outputs": [
    {
     "name": "stdout",
     "output_type": "stream",
     "text": [
      "Implemented R2 score:  -0.5583024759308051\n",
      "ScikitLearn R2 score:  -0.5583024759308051\n"
     ]
    },
    {
     "data": {
      "image/png": "[encoded data removed]",
      "text/plain": [
       "<Figure size 432x288 with 1 Axes>"
      ]
     },
     "metadata": {},
     "output_type": "display_data"
    }
   ],
   "source": [
    "Lasso = LassoLinearRegression()\n",
    "Lasso.fit(X_train,longitude_train)\n",
    "Lasso.predict(X_test,longitude_test)\n",
    "Lasso.coef_values()"
   ]
  },
  {
   "cell_type": "markdown",
   "metadata": {},
   "source": [
    "### 2-A. \n",
    "* First, build a straightforward linear regression of latitude and longitude respectively against features. What is the R-squared of each model? Plot a graph evaluating each regression\n",
    "\n"
   ]
  },
  {
   "cell_type": "code",
   "execution_count": 30,
   "metadata": {},
   "outputs": [],
   "source": [
    "def plot_r2(X,latitude,longitude):\n",
    "    random_states = range(100)\n",
    "    vanilla_latitude_regression=[]\n",
    "    ridge_latitude_regression = []\n",
    "    lasso_latitude_regression =[]\n",
    "    \n",
    "    vanilla_longitude_regression=[]\n",
    "    ridge_longitude_regression = []\n",
    "    lasso_longitude_regression =[]\n",
    "    for i in random_states:\n",
    "        if i%10==0:\n",
    "            print('Random State ',i)\n",
    "        X_train, X_val, X_test, latitude_train, latitude_val ,latitude_test, longitude_train, longitude_val,longitude_test= split_data(X,latitude,longitude,random_state=i)\n",
    "        vanilla = LinearRegression()\n",
    "        vanilla.fit(X_train,latitude_train)\n",
    "        vanilla_latitude_regression.append(vanilla.predict(X_test,latitude_test,False))\n",
    "\n",
    "        vanilla = LinearRegression()\n",
    "        vanilla.fit(X_train,longitude_train)\n",
    "        vanilla_longitude_regression.append(vanilla.predict(X_test,longitude_test,False))\n",
    "        \n",
    "        Ridge = RidgeLinearRegression()\n",
    "        Ridge.fit(X_train,latitude_train)\n",
    "        ridge_latitude_regression.append(Ridge.predict(X_test,latitude_test,False))\n",
    "\n",
    "        Ridge = RidgeLinearRegression()\n",
    "        Ridge.fit(X_train,longitude_train)\n",
    "        ridge_longitude_regression.append(Ridge.predict(X_test,longitude_test,False))\n",
    "\n",
    "        Lasso = LassoLinearRegression()\n",
    "        Lasso.fit(X_train,latitude_train)\n",
    "        lasso_latitude_regression.append(Lasso.predict(X_test,latitude_test,False))\n",
    "\n",
    "        Lasso = LassoLinearRegression()\n",
    "        Lasso.fit(X_train,longitude_train)\n",
    "        lasso_longitude_regression.append(Lasso.predict(X_test,longitude_test,False))\n",
    "    latitude_r2_dict ={'Vanilla_latitude':vanilla_latitude_regression,'Ridge_latitude':ridge_latitude_regression,'Lasso_latitude':lasso_latitude_regression,}\n",
    "\n",
    "    longitude_r2_dict ={'Vanilla_longitude':vanilla_longitude_regression,'Ridge_longitude':ridge_longitude_regression,'Lasso_longitude':lasso_longitude_regression}\n",
    "        \n",
    "    return pd.DataFrame(latitude_r2_dict), pd.DataFrame(longitude_r2_dict)\n",
    "        "
   ]
  },
  {
   "cell_type": "code",
   "execution_count": 31,
   "metadata": {},
   "outputs": [
    {
     "name": "stdout",
     "output_type": "stream",
     "text": [
      "Random State  0\n",
      "Random State  10\n",
      "Random State  20\n",
      "Random State  30\n",
      "Random State  40\n",
      "Random State  50\n",
      "Random State  60\n",
      "Random State  70\n",
      "Random State  80\n",
      "Random State  90\n"
     ]
    }
   ],
   "source": [
    "latitude_df,longitude_df = plot_r2(X,latitude,longitude)"
   ]
  },
  {
   "cell_type": "code",
   "execution_count": 35,
   "metadata": {},
   "outputs": [
    {
     "data": {
      "text/html": [
       "<div>\n",
       "<style scoped>\n",
       "    .dataframe tbody tr th:only-of-type {\n",
       "        vertical-align: middle;\n",
       "    }\n",
       "\n",
       "    .dataframe tbody tr th {\n",
       "        vertical-align: top;\n",
       "    }\n",
       "\n",
       "    .dataframe thead th {\n",
       "        text-align: right;\n",
       "    }\n",
       "</style>\n",
       "<table border=\"1\" class=\"dataframe\">\n",
       "  <thead>\n",
       "    <tr style=\"text-align: right;\">\n",
       "      <th></th>\n",
       "      <th>Vanilla_latitude</th>\n",
       "      <th>Ridge_latitude</th>\n",
       "      <th>Lasso_latitude</th>\n",
       "    </tr>\n",
       "  </thead>\n",
       "  <tbody>\n",
       "    <tr>\n",
       "      <th>0</th>\n",
       "      <td>-2.246781</td>\n",
       "      <td>-2.087222</td>\n",
       "      <td>-2.059159</td>\n",
       "    </tr>\n",
       "    <tr>\n",
       "      <th>1</th>\n",
       "      <td>-1.496693</td>\n",
       "      <td>-1.462306</td>\n",
       "      <td>-1.440520</td>\n",
       "    </tr>\n",
       "    <tr>\n",
       "      <th>2</th>\n",
       "      <td>-2.042148</td>\n",
       "      <td>-1.924271</td>\n",
       "      <td>-1.883836</td>\n",
       "    </tr>\n",
       "    <tr>\n",
       "      <th>3</th>\n",
       "      <td>-1.623268</td>\n",
       "      <td>-1.551000</td>\n",
       "      <td>-1.534120</td>\n",
       "    </tr>\n",
       "    <tr>\n",
       "      <th>4</th>\n",
       "      <td>-2.567451</td>\n",
       "      <td>-2.403640</td>\n",
       "      <td>-2.410997</td>\n",
       "    </tr>\n",
       "  </tbody>\n",
       "</table>\n",
       "</div>"
      ],
      "text/plain": [
       "   Vanilla_latitude  Ridge_latitude  Lasso_latitude\n",
       "0         -2.246781       -2.087222       -2.059159\n",
       "1         -1.496693       -1.462306       -1.440520\n",
       "2         -2.042148       -1.924271       -1.883836\n",
       "3         -1.623268       -1.551000       -1.534120\n",
       "4         -2.567451       -2.403640       -2.410997"
      ]
     },
     "execution_count": 35,
     "metadata": {},
     "output_type": "execute_result"
    }
   ],
   "source": [
    "latitude_df.head()"
   ]
  },
  {
   "cell_type": "code",
   "execution_count": 36,
   "metadata": {},
   "outputs": [
    {
     "data": {
      "text/plain": [
       "<matplotlib.axes._subplots.AxesSubplot at 0x7fbafb602860>"
      ]
     },
     "execution_count": 36,
     "metadata": {},
     "output_type": "execute_result"
    },
    {
     "data": {
      "image/png": "[encoded data removed]",
      "text/plain": [
       "<Figure size 432x288 with 1 Axes>"
      ]
     },
     "metadata": {},
     "output_type": "display_data"
    }
   ],
   "source": [
    "sns.boxplot(x = \"variable\", y = \"value\", palette = \"Set3\", data = pd.melt(latitude_df))"
   ]
  },
  {
   "cell_type": "code",
   "execution_count": 37,
   "metadata": {},
   "outputs": [
    {
     "data": {
      "text/plain": [
       "<matplotlib.axes._subplots.AxesSubplot at 0x7fbafb538940>"
      ]
     },
     "execution_count": 37,
     "metadata": {},
     "output_type": "execute_result"
    },
    {
     "data": {
      "image/png": "[encoded data removed]",
      "text/plain": [
       "<Figure size 432x288 with 1 Axes>"
      ]
     },
     "metadata": {},
     "output_type": "display_data"
    }
   ],
   "source": [
    "sns.boxplot(x = \"variable\", y = \"value\", palette = \"Set3\", data = pd.melt(longitude_df))"
   ]
  },
  {
   "cell_type": "markdown",
   "metadata": {},
   "source": [
    "### 2-B. \n",
    "* A regression regularized by L2 (equivalently, a ridge regression). You should estimate the\n",
    "regularization coefficient that produces the minimum error. Is the regularized regression better than the\n",
    "unregularized regression?"
   ]
  },
  {
   "cell_type": "code",
   "execution_count": 68,
   "metadata": {},
   "outputs": [],
   "source": [
    "def plot_by_lambda_Ridge(X_train,X_val, longitude_train,longitude_val,latitude_train,latitude_val,lambda_max=200):\n",
    "    lambda_lists =[5*i for i in range(lambda_max)]\n",
    "    r2_vals_longitude ={}\n",
    "    r2_vals_latitude ={}\n",
    "    for lambda_val in lambda_lists:\n",
    "        Ridge = RidgeLinearRegression(regularizer_coef=lambda_val)\n",
    "        Ridge.fit(X_train,longitude_train)\n",
    "        r2_vals_longitude[lambda_val]=Ridge.predict(X_val,longitude_val,False)\n",
    "\n",
    "\n",
    "        Ridge = RidgeLinearRegression(regularizer_coef=lambda_val)\n",
    "        Ridge.fit(X_train,latitude_train)\n",
    "        r2_vals_latitude[lambda_val]=Ridge.predict(X_val,latitude_val,False)\n",
    "    lists_longitude = sorted(r2_vals_longitude.items())\n",
    "    lists_latitude = sorted(r2_vals_latitude.items())\n",
    "    x_long, y_long = zip(*lists_longitude)\n",
    "    plt.title('Longitude')\n",
    "    plt.xlabel('Lambda Value')\n",
    "    plt.ylabel('R2')\n",
    "    plt.plot(x_long, y_long)\n",
    "    plt.show()\n",
    "    plt.title('Latitude')\n",
    "    plt.xlabel('Lambda Value')\n",
    "    plt.ylabel('R2')\n",
    "    x_lat, y_lat = zip(*lists_latitude)\n",
    "    plt.plot(x_lat, y_lat)\n",
    "    plt.show()"
   ]
  },
  {
   "cell_type": "code",
   "execution_count": 69,
   "metadata": {},
   "outputs": [
    {
     "data": {
      "image/png": "[encoded data removed]",
      "text/plain": [
       "<Figure size 432x288 with 1 Axes>"
      ]
     },
     "metadata": {},
     "output_type": "display_data"
    },
    {
     "data": {
      "image/png": "[encoded data removed]",
      "text/plain": [
       "<Figure size 432x288 with 1 Axes>"
      ]
     },
     "metadata": {},
     "output_type": "display_data"
    }
   ],
   "source": [
    "plot_by_lambda_Ridge(X_train,X_val, longitude_train,longitude_val,latitude_train,latitude_val)"
   ]
  },
  {
   "cell_type": "code",
   "execution_count": 72,
   "metadata": {},
   "outputs": [
    {
     "name": "stdout",
     "output_type": "stream",
     "text": [
      "Implemented R2 score:  -0.5327643687449803\n",
      "ScikitLearn R2 score:  -0.5327643687449803\n"
     ]
    },
    {
     "data": {
      "image/png": "[encoded data removed]",
      "text/plain": [
       "<Figure size 432x288 with 1 Axes>"
      ]
     },
     "metadata": {},
     "output_type": "display_data"
    }
   ],
   "source": [
    "Ridge = RidgeLinearRegression(regularizer_coef=180)\n",
    "Ridge.fit(X_train,longitude_train)\n",
    "Ridge.predict(X_val,longitude_val)\n",
    "Ridge.coef_values()"
   ]
  },
  {
   "cell_type": "code",
   "execution_count": 73,
   "metadata": {},
   "outputs": [
    {
     "name": "stdout",
     "output_type": "stream",
     "text": [
      "Implemented R2 score:  -0.5414580538007991\n",
      "ScikitLearn R2 score:  -0.5414580538007991\n"
     ]
    },
    {
     "data": {
      "image/png": "[encoded data removed]",
      "text/plain": [
       "<Figure size 432x288 with 1 Axes>"
      ]
     },
     "metadata": {},
     "output_type": "display_data"
    }
   ],
   "source": [
    "Ridge = RidgeLinearRegression(regularizer_coef=800)\n",
    "Ridge.fit(X_train,longitude_train)\n",
    "Ridge.predict(X_val,longitude_val)\n",
    "Ridge.coef_values()"
   ]
  },
  {
   "cell_type": "markdown",
   "metadata": {},
   "source": [
    "### 2-C. \n",
    "* A regression regularized by L1 (equivalently, a lasso regression). You should estimate the\n",
    "regularization coefficient that produces the minimum error. How many variables are used by this\n",
    "regression? Is the regularized regression better than the unregularized regression?"
   ]
  },
  {
   "cell_type": "code",
   "execution_count": 70,
   "metadata": {},
   "outputs": [],
   "source": [
    "def plot_by_lambda_Lasso(X_train,X_val, longitude_train,longitude_val,latitude_train,latitude_val,lambda_max=200):\n",
    "    lambda_lists =[5*i for i in range(lambda_max)]\n",
    "    r2_vals_longitude ={}\n",
    "    r2_vals_latitude ={}\n",
    "    for lambda_val in lambda_lists:\n",
    "        Lasso = LassoLinearRegression(regularizer_coef=lambda_val)\n",
    "        Lasso.fit(X_train,longitude_train)\n",
    "        r2_vals_longitude[lambda_val]=Lasso.predict(X_val,longitude_val,False)\n",
    "\n",
    "\n",
    "        Lasso = LassoLinearRegression(regularizer_coef=lambda_val)\n",
    "        Lasso.fit(X_train,latitude_train)\n",
    "        r2_vals_latitude[lambda_val]=Lasso.predict(X_val,latitude_val,False)\n",
    "    lists_longitude = sorted(r2_vals_longitude.items())\n",
    "    lists_latitude = sorted(r2_vals_latitude.items())\n",
    "    x_long, y_long = zip(*lists_longitude)\n",
    "    plt.title('Longitude')\n",
    "    plt.xlabel('Lambda Value')\n",
    "    plt.ylabel('R2')\n",
    "    plt.plot(x_long, y_long)\n",
    "    plt.show()\n",
    "    plt.title('Latitude')\n",
    "    plt.xlabel('Lambda Value')\n",
    "    plt.ylabel('R2')\n",
    "    x_lat, y_lat = zip(*lists_latitude)\n",
    "    plt.plot(x_lat, y_lat)\n",
    "    plt.show()"
   ]
  },
  {
   "cell_type": "code",
   "execution_count": 71,
   "metadata": {},
   "outputs": [
    {
     "data": {
      "image/png": "[encoded data removed]",
      "text/plain": [
       "<Figure size 432x288 with 1 Axes>"
      ]
     },
     "metadata": {},
     "output_type": "display_data"
    },
    {
     "data": {
      "image/png": "[encoded data removed]",
      "text/plain": [
       "<Figure size 432x288 with 1 Axes>"
      ]
     },
     "metadata": {},
     "output_type": "display_data"
    }
   ],
   "source": [
    "plot_by_lambda_Lasso(X_train,X_val, longitude_train,longitude_val,latitude_train,latitude_val,lambda_max=200)"
   ]
  },
  {
   "cell_type": "code",
   "execution_count": 76,
   "metadata": {},
   "outputs": [
    {
     "name": "stdout",
     "output_type": "stream",
     "text": [
      "Implemented R2 score:  -0.3994997486298921\n",
      "ScikitLearn R2 score:  -0.3994997486298921\n"
     ]
    },
    {
     "data": {
      "image/png": "[encoded data removed]",
      "text/plain": [
       "<Figure size 432x288 with 1 Axes>"
      ]
     },
     "metadata": {},
     "output_type": "display_data"
    }
   ],
   "source": [
    "Lasso = LassoLinearRegression(regularizer_coef=800)\n",
    "Lasso.fit(X_train,longitude_train)\n",
    "Lasso.predict(X_test,longitude_test)\n",
    "Lasso.coef_values()"
   ]
  },
  {
   "cell_type": "code",
   "execution_count": 75,
   "metadata": {},
   "outputs": [
    {
     "name": "stdout",
     "output_type": "stream",
     "text": [
      "Implemented R2 score:  -1.759199504893242\n",
      "ScikitLearn R2 score:  -1.759199504893242\n"
     ]
    },
    {
     "data": {
      "image/png": "[encoded data removed]",
      "text/plain": [
       "<Figure size 432x288 with 1 Axes>"
      ]
     },
     "metadata": {},
     "output_type": "display_data"
    }
   ],
   "source": [
    "Lasso = LassoLinearRegression(regularizer_coef=800)\n",
    "Lasso.fit(X_train,latitude_train)\n",
    "Lasso.predict(X_test,latitude_test)\n",
    "Lasso.coef_values()"
   ]
  },
  {
   "cell_type": "code",
   "execution_count": null,
   "metadata": {},
   "outputs": [],
   "source": []
  }
 ],
 "metadata": {
  "kernelspec": {
   "display_name": "Python 3",
   "language": "python",
   "name": "python3"
  },
  "language_info": {
   "codemirror_mode": {
    "name": "ipython",
    "version": 3
   },
   "file_extension": ".py",
   "mimetype": "text/x-python",
   "name": "python",
   "nbconvert_exporter": "python",
   "pygments_lexer": "ipython3",
   "version": "3.6.10"
  }
 },
 "nbformat": 4,
 "nbformat_minor": 2
}
